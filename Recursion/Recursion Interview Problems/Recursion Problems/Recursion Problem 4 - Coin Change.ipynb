{
 "cells": [
  {
   "cell_type": "markdown",
   "metadata": {
    "collapsed": true
   },
   "source": [
    "# Coin Change Problem\n",
    "\n",
    "##### Note: This problem has multiple solutions and is a classic problem in showing issues with basic recursion. If you are having trouble with this problem (or it seems to be taking a long time to run in some cases) check out the Solution Notebook and fully read the conclusion link for a detailed description of the various ways to solve this problem!\n",
    "\n",
    "\n",
    "This problem is common enough that is actually has its own [Wikipedia Entry](https://en.wikipedia.org/wiki/Change-making_problem)! \n",
    "\n",
    "____\n",
    "## Problem Statement\n",
    "Given a target amount **n** and a list (array) of distinct coin values, what's the fewest coins needed to make the change amount. \n",
    "\n",
    "For example:\n",
    "\n",
    "If n = 10 and coins = [1,5,10]. Then there are 4 possible ways to make change:\n",
    "\n",
    "* 1+1+1+1+1+1+1+1+1+1\n",
    "\n",
    "* 5 + 1+1+1+1+1\n",
    "\n",
    "* 5+5\n",
    "\n",
    "* 10\n",
    "\n",
    "With 1 coin being the minimum amount.\n",
    "\n",
    "    \n",
    "## Solution\n",
    "\n",
    "Implement your solution below:"
   ]
  },
  {
   "cell_type": "code",
   "execution_count": 2,
   "metadata": {
    "collapsed": true
   },
   "outputs": [],
   "source": [
    "def rec_coin(target,coins):\n",
    "    # find out the valid combinations to make up the target\n",
    "    # no count limit\n",
    "    # for each coin, essentially we need to see how many ways \n",
    "    # for it's a recusion\n",
    "    # so how to find the possible ways?\n",
    "    # let's say I only start with one coin say 1\n",
    "    # to make up 10, I will do trails and errors\n",
    "    # by reducing 1 and get the distance\n",
    "    # so remaining 9, \n",
    "    # to make up 9, use 1 and and get 8, and keep doing this..\n",
    "    # until we use up 1, (and keep this result)\n",
    "    # we use the next coin - 5, so now we have 1, 5\n",
    "    # distance is now 4, we then use 1 becasue it's less than 5\n",
    "    # so now it's 1, 5, 1 and keep doing the same\n",
    "    # that would be it for coin 1\n",
    "    if target == 0:\n",
    "        return output\n",
    "    for indecx, coin in enumerate(coins):\n",
    "        # start with 1\n",
    "        distance = target - coin # distance = 9\n",
    "        if distance > coin:\n",
    "            # record the coin\n",
    "            output.append(coin)\n",
    "            return rec_coin(distance, coins)\n",
    "        \n",
    "        \n",
    "    "
   ]
  },
  {
   "cell_type": "code",
   "execution_count": 3,
   "metadata": {},
   "outputs": [
    {
     "data": {
      "text/plain": [
       "2"
      ]
     },
     "execution_count": 3,
     "metadata": {},
     "output_type": "execute_result"
    }
   ],
   "source": [
    "rec_coin(10,[1,5])"
   ]
  },
  {
   "cell_type": "markdown",
   "metadata": {},
   "source": [
    "# Test Your Solution\n",
    "\n",
    "Run the cell below to test your function against some test cases. \n",
    "\n",
    "**Note that the TestCoins class only test functions with two parameter inputs, the list of coins and the target**"
   ]
  },
  {
   "cell_type": "code",
   "execution_count": null,
   "metadata": {},
   "outputs": [],
   "source": [
    "\"\"\"\n",
    "RUN THIS CELL TO TEST YOUR FUNCTION.\n",
    "NOTE: NON-DYNAMIC FUNCTIONS WILL TAKE A LONG TIME TO TEST. IF YOU BELIEVE YOU HAVE A SOLUTION \n",
    "      GO CHECK THE SOLUTION NOTEBOOK INSTEAD OF RUNNING THIS!\n",
    "\"\"\"\n",
    "\n",
    "from nose.tools import assert_equal\n",
    "\n",
    "class TestCoins(object):\n",
    "    \n",
    "    def check(self,solution):\n",
    "        coins = [1,5,10,25]\n",
    "        assert_equal(solution(45,coins),3)\n",
    "        assert_equal(solution(23,coins),5)\n",
    "        assert_equal(solution(74,coins),8)\n",
    "        print 'Passed all tests.'\n",
    "# Run Test\n",
    "\n",
    "test = TestCoins()\n",
    "test.check(rec_coin)"
   ]
  },
  {
   "cell_type": "markdown",
   "metadata": {},
   "source": [
    "## EXTRA\n",
    "\n",
    "Good luck and remember to read the solution notebook for this once you've think you have a solution!"
   ]
  }
 ],
 "metadata": {
  "kernelspec": {
   "display_name": "Python 3",
   "language": "python",
   "name": "python3"
  },
  "language_info": {
   "codemirror_mode": {
    "name": "ipython",
    "version": 3
   },
   "file_extension": ".py",
   "mimetype": "text/x-python",
   "name": "python",
   "nbconvert_exporter": "python",
   "pygments_lexer": "ipython3",
   "version": "3.6.5"
  }
 },
 "nbformat": 4,
 "nbformat_minor": 1
}

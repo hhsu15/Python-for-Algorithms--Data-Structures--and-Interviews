{
 "cells": [
  {
   "cell_type": "code",
   "execution_count": 15,
   "metadata": {},
   "outputs": [],
   "source": [
    "# adjcent \n",
    "\n",
    "class Vertex:\n",
    "    def __init__(self, key):\n",
    "        self.id = key\n",
    "        self.connected_to = {}\n",
    "        \n",
    "    def add_neighbor(self, nbr, weight):\n",
    "        self.connected_to[nbr] = weight\n",
    "        \n",
    "    def get_connections(self):\n",
    "        return self.connected_to.keys()\n",
    "    \n",
    "    def get_id(self):\n",
    "        return self.id\n",
    "    \n",
    "    def get_weight(self, nbr):\n",
    "        return self.connected_to[nbr]\n",
    "    \n",
    "    def __str__(self):\n",
    "        return  str(self.id) + \" connected_to: \" + str([x.id for x in self.connected_to])"
   ]
  },
  {
   "cell_type": "code",
   "execution_count": 16,
   "metadata": {},
   "outputs": [],
   "source": [
    "v = Vertex(1)\n",
    "v2 = Vertex(2)"
   ]
  },
  {
   "cell_type": "code",
   "execution_count": 17,
   "metadata": {},
   "outputs": [],
   "source": [
    "v.add_neighbor(v2, 5)"
   ]
  },
  {
   "cell_type": "code",
   "execution_count": 18,
   "metadata": {},
   "outputs": [
    {
     "data": {
      "text/plain": [
       "5"
      ]
     },
     "execution_count": 18,
     "metadata": {},
     "output_type": "execute_result"
    }
   ],
   "source": [
    "v.get_weight(v2)"
   ]
  },
  {
   "cell_type": "code",
   "execution_count": 19,
   "metadata": {},
   "outputs": [
    {
     "name": "stdout",
     "output_type": "stream",
     "text": [
      "1 connected_to: [2]\n"
     ]
    }
   ],
   "source": [
    "print(v)"
   ]
  },
  {
   "cell_type": "code",
   "execution_count": 21,
   "metadata": {},
   "outputs": [],
   "source": [
    "class Graph:\n",
    "    \n",
    "    def __init__(self):\n",
    "        self.vert_list = {}\n",
    "        self.num_vertices = 0\n",
    "        \n",
    "    def add_vertex(self, key):\n",
    "        self.num_vertices += 1\n",
    "        new_vertex = Vertex(key)\n",
    "        self.vert_list[key] = new_vertex\n",
    "        return new_vertex\n",
    "    \n",
    "    def get_vertex(self, n):\n",
    "        if n in self.vert_list:\n",
    "            return self.vert_list[n]\n",
    "        return None\n",
    "    \n",
    "    def add_edge(self, from_vertex, to_vertex, cost=0):\n",
    "        if from_vertex not in self.vert_list:\n",
    "            nv = self.add_vertex(from_vertex)\n",
    "            \n",
    "        if to_vertex not in self.vert_list:\n",
    "            nv = self.add_vertex(to_vertex)\n",
    "            \n",
    "        self.vert_list[from_vertex].add_neighbor(self.vert_list[to_vertex], cost)\n",
    "        \n",
    "    def get_vertices(self):\n",
    "        return self.vert_list.keys()\n",
    "    \n",
    "    def __iter__(self):\n",
    "        return iter(self.vert_list.values())\n",
    "    \n",
    "    def __contains__(selt, n):\n",
    "        return n in self.vert_list"
   ]
  },
  {
   "cell_type": "code",
   "execution_count": 22,
   "metadata": {},
   "outputs": [],
   "source": [
    "g = Graph()"
   ]
  },
  {
   "cell_type": "code",
   "execution_count": 23,
   "metadata": {},
   "outputs": [],
   "source": [
    "for i in range(5):\n",
    "    g.add_vertex(i)\n",
    "    "
   ]
  },
  {
   "cell_type": "code",
   "execution_count": 24,
   "metadata": {},
   "outputs": [
    {
     "data": {
      "text/plain": [
       "{0: <__main__.Vertex at 0x107333cf8>,\n",
       " 1: <__main__.Vertex at 0x107333c18>,\n",
       " 2: <__main__.Vertex at 0x107333a58>,\n",
       " 3: <__main__.Vertex at 0x107333b38>,\n",
       " 4: <__main__.Vertex at 0x107333b70>}"
      ]
     },
     "execution_count": 24,
     "metadata": {},
     "output_type": "execute_result"
    }
   ],
   "source": [
    "g.vert_list"
   ]
  },
  {
   "cell_type": "code",
   "execution_count": 25,
   "metadata": {},
   "outputs": [],
   "source": [
    "g.add_edge(0, 1, 2)"
   ]
  },
  {
   "cell_type": "code",
   "execution_count": 26,
   "metadata": {},
   "outputs": [
    {
     "name": "stdout",
     "output_type": "stream",
     "text": [
      "0 connected_to: [1]\n",
      "dict_keys([<__main__.Vertex object at 0x107333c18>])\n",
      "\n",
      "\n",
      "1 connected_to: []\n",
      "dict_keys([])\n",
      "\n",
      "\n",
      "2 connected_to: []\n",
      "dict_keys([])\n",
      "\n",
      "\n",
      "3 connected_to: []\n",
      "dict_keys([])\n",
      "\n",
      "\n",
      "4 connected_to: []\n",
      "dict_keys([])\n",
      "\n",
      "\n"
     ]
    }
   ],
   "source": [
    "for vertex in g:\n",
    "    print(vertex)\n",
    "    print(vertex.get_connections())\n",
    "    print('\\n')"
   ]
  },
  {
   "cell_type": "code",
   "execution_count": 153,
   "metadata": {},
   "outputs": [],
   "source": [
    "# see if I can implement this myself\n",
    "\n",
    "class Vertex:\n",
    "    \n",
    "    def __init__(self, key):\n",
    "        self.id = key\n",
    "        # this is the most important\n",
    "        # a vertex has the info where it connects to\n",
    "        self.connected_to = {}\n",
    "        \n",
    "    def get_id(self):\n",
    "        return self.id\n",
    "    \n",
    "    def add_nbr(self, nbr, weight):\n",
    "        self.connected_to[nbr] = weight\n",
    "    \n",
    "    def __str__(self):\n",
    "        return \"vertax:\" + str(self.id) + \" connected to \" + str(['vertex: ' + str(x.id) + ' with cost of '+ str(self.connected_to[x]) for x in self.connected_to.keys()])\n",
    "    "
   ]
  },
  {
   "cell_type": "code",
   "execution_count": 154,
   "metadata": {},
   "outputs": [],
   "source": [
    "v = Vertex(0)\n",
    "v1 = Vertex(1)"
   ]
  },
  {
   "cell_type": "code",
   "execution_count": 155,
   "metadata": {},
   "outputs": [],
   "source": [
    "v.add_nbr(v1, 3)"
   ]
  },
  {
   "cell_type": "code",
   "execution_count": 156,
   "metadata": {},
   "outputs": [
    {
     "data": {
      "text/plain": [
       "3"
      ]
     },
     "execution_count": 156,
     "metadata": {},
     "output_type": "execute_result"
    }
   ],
   "source": [
    "v.connected_to[v1]"
   ]
  },
  {
   "cell_type": "code",
   "execution_count": 157,
   "metadata": {},
   "outputs": [],
   "source": [
    "class Graph:\n",
    "    \n",
    "    def __init__(self):\n",
    "        self.vert_list = {} # use dictionary\n",
    "        \n",
    "    def __getitem__(self, vert_id):\n",
    "        return self.vert_list[vert_id]\n",
    "        \n",
    "    def get_vert(self, vert_id):\n",
    "        # key will be the vert id, not the actual vert obj\n",
    "        return self.vert_list[vert_id] # return the actual vert obj\n",
    "    \n",
    "    def add_vert(self, vert_id):\n",
    "        vertex = Vertex(vert_id)\n",
    "        if vert_id not in self.vert_list:\n",
    "            self.vert_list[vert_id] = vertex\n",
    "        return \"vertex \" + str(vert_id) + \" added!\"\n",
    "    \n",
    "    def add_edge(self, from_vert_id, to_vert_id, weight):\n",
    "        if from_vert_id not in self.vert_list:\n",
    "            self.vert_list[from_vert_id] = Vertex(from_vert_id)\n",
    "            \n",
    "        if to_vert_id not in self.vert_list:\n",
    "            self.vert_list[to_vert_id] = Vertex(to_vert_id)\n",
    "\n",
    "        self.vert_list[from_vert_id].add_nbr(self.vert_list[to_vert_id], weight)\n",
    "        \n",
    "    def __iter__(self):\n",
    "        return iter(self.vert_list.values())\n",
    "    \n",
    "    def __contains__(self, vert_id):\n",
    "        return vert_id in self.vert_list\n",
    "    \n",
    "    def __len__(self):\n",
    "        return len(self.vert_list)\n",
    "    \n",
    "    def get_summary(self):\n",
    "        for i in self:\n",
    "            print(i)\n",
    "    "
   ]
  },
  {
   "cell_type": "code",
   "execution_count": 158,
   "metadata": {},
   "outputs": [],
   "source": [
    "g = Graph()"
   ]
  },
  {
   "cell_type": "code",
   "execution_count": 159,
   "metadata": {},
   "outputs": [],
   "source": [
    "for i in range(5):\n",
    "    g.add_vert(i)"
   ]
  },
  {
   "cell_type": "code",
   "execution_count": 160,
   "metadata": {},
   "outputs": [],
   "source": [
    "g.add_edge(0, 1, 3)"
   ]
  },
  {
   "cell_type": "code",
   "execution_count": 161,
   "metadata": {},
   "outputs": [
    {
     "name": "stdout",
     "output_type": "stream",
     "text": [
      "vertax:0 connected to ['vertex: 1 with cost of 3']\n",
      "vertax:1 connected to []\n",
      "vertax:2 connected to []\n",
      "vertax:3 connected to []\n",
      "vertax:4 connected to []\n"
     ]
    }
   ],
   "source": [
    "for i in g:\n",
    "    print(i)"
   ]
  },
  {
   "cell_type": "code",
   "execution_count": 162,
   "metadata": {},
   "outputs": [
    {
     "data": {
      "text/plain": [
       "5"
      ]
     },
     "execution_count": 162,
     "metadata": {},
     "output_type": "execute_result"
    }
   ],
   "source": [
    "len(g)"
   ]
  },
  {
   "cell_type": "code",
   "execution_count": 163,
   "metadata": {},
   "outputs": [
    {
     "data": {
      "text/plain": [
       "<__main__.Vertex at 0x107397208>"
      ]
     },
     "execution_count": 163,
     "metadata": {},
     "output_type": "execute_result"
    }
   ],
   "source": [
    "g[2]"
   ]
  },
  {
   "cell_type": "code",
   "execution_count": 164,
   "metadata": {},
   "outputs": [],
   "source": [
    "g.add_edge(5, 4, 5)"
   ]
  },
  {
   "cell_type": "code",
   "execution_count": 167,
   "metadata": {},
   "outputs": [
    {
     "name": "stdout",
     "output_type": "stream",
     "text": [
      "vertax:0 connected to ['vertex: 1 with cost of 3', 'vertex: 2 with cost of 5']\n",
      "vertax:1 connected to []\n",
      "vertax:2 connected to []\n",
      "vertax:3 connected to []\n",
      "vertax:4 connected to []\n",
      "vertax:5 connected to ['vertex: 4 with cost of 5']\n"
     ]
    }
   ],
   "source": [
    "g.get_summary()"
   ]
  },
  {
   "cell_type": "code",
   "execution_count": 166,
   "metadata": {},
   "outputs": [],
   "source": [
    "g.add_edge(0, 2, 5)"
   ]
  },
  {
   "cell_type": "code",
   "execution_count": null,
   "metadata": {},
   "outputs": [],
   "source": [
    "# Search algorithm for graph\n",
    "## Introduce Breadth Firth Search (BFS)\n"
   ]
  }
 ],
 "metadata": {
  "kernelspec": {
   "display_name": "Python 3",
   "language": "python",
   "name": "python3"
  },
  "language_info": {
   "codemirror_mode": {
    "name": "ipython",
    "version": 3
   },
   "file_extension": ".py",
   "mimetype": "text/x-python",
   "name": "python",
   "nbconvert_exporter": "python",
   "pygments_lexer": "ipython3",
   "version": "3.6.5"
  }
 },
 "nbformat": 4,
 "nbformat_minor": 2
}

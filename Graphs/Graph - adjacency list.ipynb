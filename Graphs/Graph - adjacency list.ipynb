{
 "cells": [
  {
   "cell_type": "code",
   "execution_count": 198,
   "metadata": {},
   "outputs": [],
   "source": [
    "# adjcent \n",
    "\n",
    "class Vertex:\n",
    "    def __init__(self, key):\n",
    "        self.id = key\n",
    "        self.connected_to = {}\n",
    "        \n",
    "    def add_neighbor(self, nbr, weight):\n",
    "        self.connected_to[nbr] = weight\n",
    "        \n",
    "    def get_connections(self):\n",
    "        return self.connected_to.keys()\n",
    "    \n",
    "    def get_id(self):\n",
    "        return self.id\n",
    "    \n",
    "    def get_weight(self, nbr):\n",
    "        return self.connected_to[nbr]\n",
    "    \n",
    "    def __str__(self):\n",
    "        return  str(self.id) + \" connected_to: \" + str([x.id for x in self.connected_to])"
   ]
  },
  {
   "cell_type": "code",
   "execution_count": 199,
   "metadata": {},
   "outputs": [],
   "source": [
    "v = Vertex(1)\n",
    "v2 = Vertex(2)"
   ]
  },
  {
   "cell_type": "code",
   "execution_count": 200,
   "metadata": {},
   "outputs": [],
   "source": [
    "v.add_neighbor(v2, 5)"
   ]
  },
  {
   "cell_type": "code",
   "execution_count": 201,
   "metadata": {},
   "outputs": [
    {
     "data": {
      "text/plain": [
       "5"
      ]
     },
     "execution_count": 201,
     "metadata": {},
     "output_type": "execute_result"
    }
   ],
   "source": [
    "v.get_weight(v2)"
   ]
  },
  {
   "cell_type": "code",
   "execution_count": 202,
   "metadata": {},
   "outputs": [],
   "source": [
    "class Graph:\n",
    "    \n",
    "    def __init__(self):\n",
    "        self.vert_list = {}\n",
    "        self.num_vertices = 0\n",
    "        \n",
    "    def add_vertex(self, key):\n",
    "        self.num_vertices += 1\n",
    "        new_vertex = Vertex(key)\n",
    "        self.vert_list[key] = new_vertex\n",
    "        return new_vertex\n",
    "    \n",
    "    def get_vertex(self, n):\n",
    "        if n in self.vert_list:\n",
    "            return self.vert_list[n]\n",
    "        return None\n",
    "    \n",
    "    def add_edge(self, from_vertex, to_vertex, cost=0):\n",
    "        if from_vertex not in self.vert_list:\n",
    "            nv = self.add_vertex(from_vertex)\n",
    "            \n",
    "        if to_vertex not in self.vert_list:\n",
    "            nv = self.add_vertex(to_vertex)\n",
    "            \n",
    "        self.vert_list[from_vertex].add_neighbor(self.vert_list[to_vertex], cost)\n",
    "        \n",
    "    def get_vertices(self):\n",
    "        return self.vert_list.keys()\n",
    "    \n",
    "    def __iter__(self):\n",
    "        return iter(self.vert_list.values())\n",
    "    \n",
    "    def __contains__(selt, n):\n",
    "        return n in self.vert_list"
   ]
  },
  {
   "cell_type": "code",
   "execution_count": 203,
   "metadata": {},
   "outputs": [],
   "source": [
    "g = Graph()"
   ]
  },
  {
   "cell_type": "code",
   "execution_count": 204,
   "metadata": {},
   "outputs": [],
   "source": [
    "for i in range(5):\n",
    "    g.add_vertex(i)\n",
    "    "
   ]
  },
  {
   "cell_type": "code",
   "execution_count": 205,
   "metadata": {},
   "outputs": [
    {
     "data": {
      "text/plain": [
       "{0: <__main__.Vertex at 0x1073971d0>,\n",
       " 1: <__main__.Vertex at 0x1073961d0>,\n",
       " 2: <__main__.Vertex at 0x107396518>,\n",
       " 3: <__main__.Vertex at 0x107396da0>,\n",
       " 4: <__main__.Vertex at 0x107396c18>}"
      ]
     },
     "execution_count": 205,
     "metadata": {},
     "output_type": "execute_result"
    }
   ],
   "source": [
    "g.vert_list"
   ]
  },
  {
   "cell_type": "code",
   "execution_count": 206,
   "metadata": {},
   "outputs": [],
   "source": [
    "g.add_edge(0, 1, 2)"
   ]
  },
  {
   "cell_type": "code",
   "execution_count": 207,
   "metadata": {},
   "outputs": [
    {
     "name": "stdout",
     "output_type": "stream",
     "text": [
      "0 connected_to: [1]\n",
      "dict_keys([<__main__.Vertex object at 0x1073961d0>])\n",
      "\n",
      "\n",
      "1 connected_to: []\n",
      "dict_keys([])\n",
      "\n",
      "\n",
      "2 connected_to: []\n",
      "dict_keys([])\n",
      "\n",
      "\n",
      "3 connected_to: []\n",
      "dict_keys([])\n",
      "\n",
      "\n",
      "4 connected_to: []\n",
      "dict_keys([])\n",
      "\n",
      "\n"
     ]
    }
   ],
   "source": [
    "for vertex in g:\n",
    "    print(vertex)\n",
    "    print(vertex.get_connections())\n",
    "    print('\\n')"
   ]
  },
  {
   "cell_type": "code",
   "execution_count": 208,
   "metadata": {},
   "outputs": [],
   "source": [
    "# see if I can implement this myself\n",
    "\n",
    "class Vertex:\n",
    "    \n",
    "    def __init__(self, key):\n",
    "        self.id = key\n",
    "        # this is the most important\n",
    "        # a vertex has the info where it connects to\n",
    "        self.connected_to = {}\n",
    "        \n",
    "    def get_id(self):\n",
    "        return self.id\n",
    "    \n",
    "    def add_nbr(self, nbr, weight):\n",
    "        self.connected_to[nbr] = weight\n",
    "    \n",
    "    def __str__(self):\n",
    "        return \"vertax:\" + str(self.id) + \" connected to \" + str(['vertex: ' + str(x.id) + ' with cost of '+ str(self.connected_to[x]) for x in self.connected_to.keys()])\n",
    "    "
   ]
  },
  {
   "cell_type": "code",
   "execution_count": 209,
   "metadata": {},
   "outputs": [],
   "source": [
    "v = Vertex(0)\n",
    "v1 = Vertex(1)"
   ]
  },
  {
   "cell_type": "code",
   "execution_count": 210,
   "metadata": {},
   "outputs": [],
   "source": [
    "v.add_nbr(v1, 3)"
   ]
  },
  {
   "cell_type": "code",
   "execution_count": 211,
   "metadata": {},
   "outputs": [
    {
     "data": {
      "text/plain": [
       "3"
      ]
     },
     "execution_count": 211,
     "metadata": {},
     "output_type": "execute_result"
    }
   ],
   "source": [
    "v.connected_to[v1]"
   ]
  },
  {
   "cell_type": "code",
   "execution_count": 212,
   "metadata": {},
   "outputs": [],
   "source": [
    "class Graph:\n",
    "    \n",
    "    def __init__(self):\n",
    "        # implementation of adjacency list\n",
    "        self.vert_list = {} # use dictionary\n",
    "        \n",
    "    def __getitem__(self, vert_id):\n",
    "        return self.vert_list[vert_id]\n",
    "        \n",
    "    def get_vert(self, vert_id):\n",
    "        # key will be the vert id, not the actual vert obj\n",
    "        return self.vert_list[vert_id] # return the actual vert obj\n",
    "    \n",
    "    def add_vert(self, vert_id):\n",
    "        vertex = Vertex(vert_id)\n",
    "        if vert_id not in self.vert_list:\n",
    "            self.vert_list[vert_id] = vertex\n",
    "        return \"vertex \" + str(vert_id) + \" added!\"\n",
    "    \n",
    "    def add_edge(self, from_vert_id, to_vert_id, weight):\n",
    "        if from_vert_id not in self.vert_list:\n",
    "            self.vert_list[from_vert_id] = Vertex(from_vert_id)\n",
    "            \n",
    "        if to_vert_id not in self.vert_list:\n",
    "            self.vert_list[to_vert_id] = Vertex(to_vert_id)\n",
    "\n",
    "        self.vert_list[from_vert_id].add_nbr(self.vert_list[to_vert_id], weight)\n",
    "        \n",
    "    def __iter__(self):\n",
    "        return iter(self.vert_list.values())\n",
    "    \n",
    "    def __contains__(self, vert_id):\n",
    "        return vert_id in self.vert_list\n",
    "    \n",
    "    def __len__(self):\n",
    "        return len(self.vert_list)\n",
    "    \n",
    "    def get_summary(self):\n",
    "        for i in self:\n",
    "            print(i)\n",
    "    "
   ]
  },
  {
   "cell_type": "code",
   "execution_count": 213,
   "metadata": {},
   "outputs": [],
   "source": [
    "g = Graph()"
   ]
  },
  {
   "cell_type": "code",
   "execution_count": 214,
   "metadata": {},
   "outputs": [],
   "source": [
    "for i in range(5):\n",
    "    g.add_vert(i)"
   ]
  },
  {
   "cell_type": "code",
   "execution_count": 215,
   "metadata": {},
   "outputs": [],
   "source": [
    "g.add_edge(0, 1, 3)"
   ]
  },
  {
   "cell_type": "code",
   "execution_count": 216,
   "metadata": {},
   "outputs": [
    {
     "name": "stdout",
     "output_type": "stream",
     "text": [
      "vertax:0 connected to ['vertex: 1 with cost of 3']\n",
      "vertax:1 connected to []\n",
      "vertax:2 connected to []\n",
      "vertax:3 connected to []\n",
      "vertax:4 connected to []\n"
     ]
    }
   ],
   "source": [
    "for i in g:\n",
    "    print(i)"
   ]
  },
  {
   "cell_type": "code",
   "execution_count": 217,
   "metadata": {},
   "outputs": [
    {
     "data": {
      "text/plain": [
       "5"
      ]
     },
     "execution_count": 217,
     "metadata": {},
     "output_type": "execute_result"
    }
   ],
   "source": [
    "len(g)"
   ]
  },
  {
   "cell_type": "code",
   "execution_count": 218,
   "metadata": {},
   "outputs": [
    {
     "data": {
      "text/plain": [
       "<__main__.Vertex at 0x1073a14a8>"
      ]
     },
     "execution_count": 218,
     "metadata": {},
     "output_type": "execute_result"
    }
   ],
   "source": [
    "g[2]"
   ]
  },
  {
   "cell_type": "code",
   "execution_count": 219,
   "metadata": {},
   "outputs": [],
   "source": [
    "g.add_edge(5, 4, 5)"
   ]
  },
  {
   "cell_type": "code",
   "execution_count": 220,
   "metadata": {},
   "outputs": [
    {
     "name": "stdout",
     "output_type": "stream",
     "text": [
      "vertax:0 connected to ['vertex: 1 with cost of 3']\n",
      "vertax:1 connected to []\n",
      "vertax:2 connected to []\n",
      "vertax:3 connected to []\n",
      "vertax:4 connected to []\n",
      "vertax:5 connected to ['vertex: 4 with cost of 5']\n"
     ]
    }
   ],
   "source": [
    "g.get_summary()"
   ]
  },
  {
   "cell_type": "code",
   "execution_count": 221,
   "metadata": {},
   "outputs": [],
   "source": [
    "g.add_edge(0, 2, 5)"
   ]
  },
  {
   "cell_type": "markdown",
   "metadata": {},
   "source": [
    "## Breadth First Search\n",
    "### Look one step each time for all neighbors"
   ]
  },
  {
   "cell_type": "code",
   "execution_count": 197,
   "metadata": {},
   "outputs": [],
   "source": [
    "# concept\n",
    "def bfs(graph, start):\n",
    "    # initialize\n",
    "    start.setDistance(0)\n",
    "    start.setPred(None) # set predecessor\n",
    "    VertQueue = Queue() \n",
    "    vertQueue.enqueue(start) # add start to the queue\n",
    "    \n",
    "    while (vertQueue.size > 0):\n",
    "        currentVert = vertQueue.dequeue() # get the current vert and pop it out of the queue\n",
    "        for nbr in currentVert.getConnections():\n",
    "            if nbr.getColor() == 'white':\n",
    "                nbr.setColor = 'gray'\n",
    "                nbr.setDistance(currentVert.getDistance()+1) # increment distance by 1\n",
    "                nbr.setPred(currentVert)\n",
    "                vertQueue.enqueue(nbr) # add neighbor to the queue for further exploration\n",
    "        currentVert.setColor('black') # set current vert to black since all nbrs have been explored\n",
    "        \n",
    "                "
   ]
  },
  {
   "cell_type": "markdown",
   "metadata": {},
   "source": [
    "## Depth First Search\n",
    "### Look one branch all the way to the end at a time and go back to next branch"
   ]
  },
  {
   "cell_type": "code",
   "execution_count": 226,
   "metadata": {},
   "outputs": [
    {
     "name": "stdout",
     "output_type": "stream",
     "text": [
      "Collecting enum34\n",
      "  Downloading https://files.pythonhosted.org/packages/af/42/cb9355df32c69b553e72a2e28daee25d1611d2c0d9c272aa1d34204205b2/enum34-1.1.6-py3-none-any.whl\n",
      "Installing collected packages: enum34\n",
      "Successfully installed enum34-1.1.6\n",
      "\u001b[33mYou are using pip version 18.1, however version 19.0.2 is available.\n",
      "You should consider upgrading via the 'pip install --upgrade pip' command.\u001b[0m\n"
     ]
    }
   ],
   "source": [
    "!pip install enum34"
   ]
  },
  {
   "cell_type": "code",
   "execution_count": 233,
   "metadata": {},
   "outputs": [],
   "source": [
    "from enum import Enum\n",
    "# to have a nice print representation"
   ]
  },
  {
   "cell_type": "code",
   "execution_count": 234,
   "metadata": {},
   "outputs": [],
   "source": [
    "class State(Enum):\n",
    "    unvisited = 1\n",
    "    visited = 2\n",
    "    visiting = 3"
   ]
  },
  {
   "cell_type": "code",
   "execution_count": 242,
   "metadata": {},
   "outputs": [
    {
     "name": "stdout",
     "output_type": "stream",
     "text": [
      "unvisited\n",
      "1\n"
     ]
    }
   ],
   "source": [
    "state = State.unvisited\n",
    "print(state.name)\n",
    "print(state.value)"
   ]
  },
  {
   "cell_type": "code",
   "execution_count": 247,
   "metadata": {},
   "outputs": [],
   "source": [
    "from collections import OrderedDict\n",
    "class Node:\n",
    "    \n",
    "    def __init__(self, num):\n",
    "        self.num = num\n",
    "        self.visit_state = State.unvisited\n",
    "        self.adjacent = OrderedDict()  # key = node, value = weighht\n",
    "    \n",
    "    def __str__(self):\n",
    "        return str(self.num)"
   ]
  },
  {
   "cell_type": "code",
   "execution_count": 281,
   "metadata": {},
   "outputs": [],
   "source": [
    "class Graph:\n",
    "    \n",
    "    def __init__(self):\n",
    "        self.nodes = OrderedDict()\n",
    "    \n",
    "    def add_node(self, num):\n",
    "        node = Node(num)\n",
    "        self.nodes[num] = node\n",
    "        return node\n",
    "    \n",
    "    def add_edge(self, source, dest, weight=0):\n",
    "        if source not in self.nodes:\n",
    "            self.add_node(source)\n",
    "        if dest not in self.nodes:\n",
    "            self.add_node(dest)\n",
    "        self.nodes[source].adjacent[self.nodes[dest]] = weight\n",
    "        \n",
    "    def __iter__(self):\n",
    "        return iter(self.nodes)"
   ]
  },
  {
   "cell_type": "code",
   "execution_count": 282,
   "metadata": {},
   "outputs": [],
   "source": [
    "g = Graph()\n",
    "g.add_edge(0,1,5)"
   ]
  },
  {
   "cell_type": "code",
   "execution_count": 283,
   "metadata": {},
   "outputs": [
    {
     "data": {
      "text/plain": [
       "OrderedDict([(0, <__main__.Node at 0x1073e0a20>),\n",
       "             (1, <__main__.Node at 0x1073e04e0>)])"
      ]
     },
     "execution_count": 283,
     "metadata": {},
     "output_type": "execute_result"
    }
   ],
   "source": [
    "g.nodes"
   ]
  },
  {
   "cell_type": "code",
   "execution_count": 284,
   "metadata": {},
   "outputs": [],
   "source": [
    "g.add_edge(1,2,3)"
   ]
  },
  {
   "cell_type": "code",
   "execution_count": 297,
   "metadata": {},
   "outputs": [],
   "source": [
    "graph = {'A': {'B', 'C'},\n",
    "        'B':{'A', 'D', 'E'},\n",
    "        'C': {'A', 'F'},\n",
    "        'D':{'B'},\n",
    "        'E':{'B', 'F'},\n",
    "        'F':{'C', 'E'}}"
   ]
  },
  {
   "cell_type": "code",
   "execution_count": 305,
   "metadata": {},
   "outputs": [],
   "source": [
    "# simple version of DFS\n",
    "# DFS uses the concept of stack\n",
    "def dfs(graph, start):\n",
    "    visited = set()\n",
    "    \n",
    "    stack = [start] # a stack that keeps adding the nodes you traverse\n",
    "    \n",
    "    while stack:\n",
    "        currt_vertex = stack.pop() # once you visit it, pop it out of stack\n",
    "        if currt_vertex not in visited:\n",
    "            visited.add(currt_vertex)\n",
    "            \n",
    "            # add vertecies which are unseen into stack\n",
    "            stack.extend(graph[currt_vertex] - visited)\n",
    "    return visited"
   ]
  },
  {
   "cell_type": "code",
   "execution_count": 306,
   "metadata": {},
   "outputs": [
    {
     "data": {
      "text/plain": [
       "{'A', 'B', 'C', 'D', 'E', 'F'}"
      ]
     },
     "execution_count": 306,
     "metadata": {},
     "output_type": "execute_result"
    }
   ],
   "source": [
    "dfs(graph, 'F')"
   ]
  },
  {
   "cell_type": "code",
   "execution_count": 313,
   "metadata": {},
   "outputs": [],
   "source": [
    "# simple version of BFS\n",
    "# BFS uses concept of queue\n",
    "# hit the shortest path\n",
    "def bfs(graph, start):\n",
    "    visited = set()\n",
    "    queue = [start]\n",
    "    \n",
    "    while queue:\n",
    "        current_vertex = queue.pop(0)\n",
    "        if current_vertex not in visited:\n",
    "            visited.add(current_vertex)\n",
    "            queue.extend(graph[current_vertex] - visited)\n",
    "    return visited\n",
    "        \n",
    "        "
   ]
  },
  {
   "cell_type": "code",
   "execution_count": 314,
   "metadata": {},
   "outputs": [
    {
     "data": {
      "text/plain": [
       "{'A', 'B', 'C', 'D', 'E', 'F'}"
      ]
     },
     "execution_count": 314,
     "metadata": {},
     "output_type": "execute_result"
    }
   ],
   "source": [
    "bfs(graph, 'A')"
   ]
  }
 ],
 "metadata": {
  "kernelspec": {
   "display_name": "Python 3",
   "language": "python",
   "name": "python3"
  },
  "language_info": {
   "codemirror_mode": {
    "name": "ipython",
    "version": 3
   },
   "file_extension": ".py",
   "mimetype": "text/x-python",
   "name": "python",
   "nbconvert_exporter": "python",
   "pygments_lexer": "ipython3",
   "version": "3.6.5"
  }
 },
 "nbformat": 4,
 "nbformat_minor": 2
}
